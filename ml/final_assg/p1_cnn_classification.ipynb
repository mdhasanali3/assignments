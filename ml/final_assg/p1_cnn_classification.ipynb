{
  "nbformat": 4,
  "nbformat_minor": 0,
  "metadata": {
    "colab": {
      "provenance": [],
      "toc_visible": true
    },
    "kernelspec": {
      "name": "python3",
      "display_name": "Python 3"
    },
    "language_info": {
      "name": "python"
    },
    "accelerator": "GPU",
    "gpuClass": "standard"
  },
  "cells": [
    {
      "cell_type": "markdown",
      "source": [
        "importing lib"
      ],
      "metadata": {
        "id": "rgo8CcVWEei7"
      }
    },
    {
      "cell_type": "code",
      "execution_count": 1,
      "metadata": {
        "id": "LH6-sQQGDC2D"
      },
      "outputs": [],
      "source": [
        "import numpy as np\n",
        "\n",
        "#Set the `numpy` pseudo-random generator at a fixed value\n",
        "#This helps with repeatable results everytime you run the code. \n",
        "np.random.seed(1000)\n",
        "\n",
        "import matplotlib.pyplot as plt\n",
        "import os\n",
        "import cv2\n",
        "from PIL import Image\n",
        "import keras\n",
        "\n",
        "os.environ['KERAS_BACKEND'] = 'tensorflow' # Added to set the backend as Tensorflow\n",
        "#We can also set it to Theano if we want. "
      ]
    },
    {
      "cell_type": "markdown",
      "source": [
        "## data set loading"
      ],
      "metadata": {
        "id": "o1pysQGRDXOx"
      }
    },
    {
      "cell_type": "code",
      "source": [
        "from google.colab import drive\n",
        "drive.mount(\"/content/gdrive/\")"
      ],
      "metadata": {
        "colab": {
          "base_uri": "https://localhost:8080/"
        },
        "id": "ZHDLalitDF3o",
        "outputId": "86be0977-8592-4c70-b2e5-340196b32956"
      },
      "execution_count": 2,
      "outputs": [
        {
          "output_type": "stream",
          "name": "stdout",
          "text": [
            "Mounted at /content/gdrive/\n"
          ]
        }
      ]
    },
    {
      "cell_type": "markdown",
      "source": [],
      "metadata": {
        "id": "xuCfwqnnEbhw"
      }
    },
    {
      "cell_type": "code",
      "source": [
        "\n",
        "image_directory = '/content/gdrive/MyDrive/XM_FOLDER/aiml_lab/p1/'\n",
        "SIZE = 64\n",
        "dataset = []  #Many ways to handle data, you can use pandas. Here, we are using a list format.  \n",
        "label = []  #Place holders to define add labels. We will add 0 to all parasitized images and 1 to uninfected.\n"
      ],
      "metadata": {
        "id": "rp1CB4pKDF6q"
      },
      "execution_count": 3,
      "outputs": []
    },
    {
      "cell_type": "code",
      "source": [
        "AbdomenCT_img = os.listdir(image_directory + 'AbdomenCT/')\n",
        "for i, image_name in enumerate(AbdomenCT_img):    #Remember enumerate method adds a counter and returns the enumerate object\n",
        "    \n",
        "    if (image_name.split('.')[1] == 'jpeg'):\n",
        "        image = cv2.imread(image_directory + 'AbdomenCT/' + image_name)\n",
        "        image = Image.fromarray(image, 'RGB')\n",
        "        image = image.resize((SIZE, SIZE))\n",
        "        dataset.append(np.array(image))\n",
        "        label.append(0)\n"
      ],
      "metadata": {
        "id": "dKf-HuA0DF9g"
      },
      "execution_count": 4,
      "outputs": []
    },
    {
      "cell_type": "code",
      "source": [
        "CXR_img = os.listdir(image_directory + 'CXR/')\n",
        "for i, image_name in enumerate(CXR_img):\n",
        "    if (image_name.split('.')[1] == 'jpeg'):\n",
        "        image = cv2.imread(image_directory + 'CXR/' + image_name)\n",
        "        image = Image.fromarray(image, 'RGB')\n",
        "        image = image.resize((SIZE, SIZE))\n",
        "        dataset.append(np.array(image))\n",
        "        label.append(1)\n"
      ],
      "metadata": {
        "id": "HFyzv0hiDGF5"
      },
      "execution_count": 5,
      "outputs": []
    },
    {
      "cell_type": "code",
      "source": [
        "ChestCT_img = os.listdir(image_directory + 'ChestCT/')\n",
        "for i, image_name in enumerate(ChestCT_img):\n",
        "    if (image_name.split('.')[1] == 'jpeg'):\n",
        "        image = cv2.imread(image_directory + 'ChestCT/' + image_name)\n",
        "        image = Image.fromarray(image, 'RGB')\n",
        "        image = image.resize((SIZE, SIZE))\n",
        "        dataset.append(np.array(image))\n",
        "        label.append(2)"
      ],
      "metadata": {
        "id": "fn8muXR4FbvD"
      },
      "execution_count": 6,
      "outputs": []
    },
    {
      "cell_type": "code",
      "source": [
        "Hand_img = os.listdir(image_directory + 'Hand/')\n",
        "for i, image_name in enumerate(Hand_img):\n",
        "    if (image_name.split('.')[1] == 'jpeg'):\n",
        "        image = cv2.imread(image_directory + 'Hand/' + image_name)\n",
        "        image = Image.fromarray(image, 'RGB')\n",
        "        image = image.resize((SIZE, SIZE))\n",
        "        dataset.append(np.array(image))\n",
        "        label.append(3)"
      ],
      "metadata": {
        "id": "7RPdJ3TVFa1j"
      },
      "execution_count": 7,
      "outputs": []
    },
    {
      "cell_type": "code",
      "source": [
        "HeadCT_img = os.listdir(image_directory + 'HeadCT/')\n",
        "for i, image_name in enumerate(HeadCT_img):\n",
        "    if (image_name.split('.')[1] == 'jpeg'):\n",
        "        image = cv2.imread(image_directory + 'HeadCT/' + image_name)\n",
        "        image = Image.fromarray(image, 'RGB')\n",
        "        image = image.resize((SIZE, SIZE))\n",
        "        dataset.append(np.array(image))\n",
        "        label.append(4)\n",
        "# print(i,)"
      ],
      "metadata": {
        "id": "WX7b2S4tFbYq"
      },
      "execution_count": 8,
      "outputs": []
    },
    {
      "cell_type": "code",
      "source": [
        "print(len(AbdomenCT_img))\n",
        "print(len(CXR_img))\n",
        "print(len(ChestCT_img))\n",
        "print(len(Hand_img))\n",
        "print(len(HeadCT_img))\n",
        "# print(Hand_img)\n",
        "# print(i)"
      ],
      "metadata": {
        "colab": {
          "base_uri": "https://localhost:8080/"
        },
        "id": "6Q8lZAQWGDkj",
        "outputId": "e5da1f05-0e4f-49cf-d14e-24904e2f8c97"
      },
      "execution_count": 9,
      "outputs": [
        {
          "output_type": "stream",
          "name": "stdout",
          "text": [
            "10000\n",
            "10000\n",
            "10030\n",
            "10000\n",
            "10000\n"
          ]
        }
      ]
    },
    {
      "cell_type": "markdown",
      "source": [
        "## model "
      ],
      "metadata": {
        "id": "639M8zV7GEDT"
      }
    },
    {
      "cell_type": "code",
      "source": [
        "INPUT_SHAPE = (SIZE, SIZE, 3)   #change to (SIZE, SIZE, 3)\n",
        "inp = keras.layers.Input(shape=INPUT_SHAPE)\n",
        "\n",
        "conv1 = keras.layers.Conv2D(32, kernel_size=(3, 3), \n",
        "                               activation='relu', padding='same')(inp)\n",
        "pool1 = keras.layers.MaxPooling2D(pool_size=(2, 2))(conv1)\n",
        "norm1 = keras.layers.BatchNormalization(axis = -1)(pool1)\n",
        "drop1 = keras.layers.Dropout(rate=0.2)(norm1)\n",
        "conv2 = keras.layers.Conv2D(32, kernel_size=(3, 3), \n",
        "                               activation='relu', padding='same')(drop1)\n",
        "pool2 = keras.layers.MaxPooling2D(pool_size=(2, 2))(conv2)\n",
        "norm2 = keras.layers.BatchNormalization(axis = -1)(pool2)\n",
        "drop2 = keras.layers.Dropout(rate=0.2)(norm2)\n",
        "\n",
        "flat = keras.layers.Flatten()(drop2)  #Flatten the matrix to get it ready for dense.\n",
        "\n",
        "hidden1 = keras.layers.Dense(512, activation='relu')(flat)\n",
        "norm3 = keras.layers.BatchNormalization(axis = -1)(hidden1)\n",
        "drop3 = keras.layers.Dropout(rate=0.2)(norm3)\n",
        "hidden2 = keras.layers.Dense(256, activation='relu')(drop3)\n",
        "norm4 = keras.layers.BatchNormalization(axis = -1)(hidden2)\n",
        "drop4 = keras.layers.Dropout(rate=0.2)(norm4)\n",
        "\n",
        "out = keras.layers.Dense(5, activation='softmax')(drop4)   #units=1 gives error\n"
      ],
      "metadata": {
        "id": "4P0sBsW9DGJD"
      },
      "execution_count": 15,
      "outputs": []
    },
    {
      "cell_type": "code",
      "source": [
        "model = keras.Model(inputs=inp, outputs=out)"
      ],
      "metadata": {
        "id": "gctdwD5tDGMB"
      },
      "execution_count": 16,
      "outputs": []
    },
    {
      "cell_type": "code",
      "source": [
        "model.compile(optimizer='adam',\n",
        "                loss='categorical_crossentropy',   #Check between binary_crossentropy and categorical_crossentropy\n",
        "                metrics=['accuracy'])\n",
        "print(model.summary())"
      ],
      "metadata": {
        "colab": {
          "base_uri": "https://localhost:8080/"
        },
        "id": "knnC834sDGPJ",
        "outputId": "b8669b57-ecc9-4794-e1bc-c45083a3b6dd"
      },
      "execution_count": 17,
      "outputs": [
        {
          "output_type": "stream",
          "name": "stdout",
          "text": [
            "Model: \"model_1\"\n",
            "_________________________________________________________________\n",
            " Layer (type)                Output Shape              Param #   \n",
            "=================================================================\n",
            " input_2 (InputLayer)        [(None, 64, 64, 3)]       0         \n",
            "                                                                 \n",
            " conv2d_2 (Conv2D)           (None, 64, 64, 32)        896       \n",
            "                                                                 \n",
            " max_pooling2d_2 (MaxPooling  (None, 32, 32, 32)       0         \n",
            " 2D)                                                             \n",
            "                                                                 \n",
            " batch_normalization_4 (Batc  (None, 32, 32, 32)       128       \n",
            " hNormalization)                                                 \n",
            "                                                                 \n",
            " dropout_4 (Dropout)         (None, 32, 32, 32)        0         \n",
            "                                                                 \n",
            " conv2d_3 (Conv2D)           (None, 32, 32, 32)        9248      \n",
            "                                                                 \n",
            " max_pooling2d_3 (MaxPooling  (None, 16, 16, 32)       0         \n",
            " 2D)                                                             \n",
            "                                                                 \n",
            " batch_normalization_5 (Batc  (None, 16, 16, 32)       128       \n",
            " hNormalization)                                                 \n",
            "                                                                 \n",
            " dropout_5 (Dropout)         (None, 16, 16, 32)        0         \n",
            "                                                                 \n",
            " flatten_1 (Flatten)         (None, 8192)              0         \n",
            "                                                                 \n",
            " dense_3 (Dense)             (None, 512)               4194816   \n",
            "                                                                 \n",
            " batch_normalization_6 (Batc  (None, 512)              2048      \n",
            " hNormalization)                                                 \n",
            "                                                                 \n",
            " dropout_6 (Dropout)         (None, 512)               0         \n",
            "                                                                 \n",
            " dense_4 (Dense)             (None, 256)               131328    \n",
            "                                                                 \n",
            " batch_normalization_7 (Batc  (None, 256)              1024      \n",
            " hNormalization)                                                 \n",
            "                                                                 \n",
            " dropout_7 (Dropout)         (None, 256)               0         \n",
            "                                                                 \n",
            " dense_5 (Dense)             (None, 5)                 1285      \n",
            "                                                                 \n",
            "=================================================================\n",
            "Total params: 4,340,901\n",
            "Trainable params: 4,339,237\n",
            "Non-trainable params: 1,664\n",
            "_________________________________________________________________\n",
            "None\n"
          ]
        }
      ]
    },
    {
      "cell_type": "markdown",
      "source": [
        "## spliting the data 80 20"
      ],
      "metadata": {
        "id": "Pi002I9aD-3L"
      }
    },
    {
      "cell_type": "code",
      "source": [
        "from sklearn.model_selection import train_test_split\n",
        "from keras.utils import to_categorical\n",
        "\n",
        "X_train, X_test, y_train, y_test = train_test_split(dataset, to_categorical(np.array(label)), test_size = 0.20, random_state = 0)\n"
      ],
      "metadata": {
        "id": "KQq0cxHaDGSB"
      },
      "execution_count": 13,
      "outputs": []
    },
    {
      "cell_type": "code",
      "source": [
        "history = model.fit(np.array(X_train), \n",
        "                         y_train, \n",
        "                         batch_size = 64, \n",
        "                         verbose = 1, \n",
        "                         epochs = 15,      #Changed to 3 from 50 for testing purposes.\n",
        "                         validation_split = 0.1,\n",
        "                         shuffle = False\n",
        "                      #   callbacks=callbacks\n",
        "                     )"
      ],
      "metadata": {
        "colab": {
          "base_uri": "https://localhost:8080/"
        },
        "id": "mZzR47TODGU4",
        "outputId": "2314604f-d1ea-4bca-fd68-99787e3755e5"
      },
      "execution_count": 21,
      "outputs": [
        {
          "output_type": "stream",
          "name": "stdout",
          "text": [
            "Epoch 1/15\n",
            "563/563 [==============================] - 7s 13ms/step - loss: 0.0018 - accuracy: 0.9995 - val_loss: 0.0049 - val_accuracy: 0.9988\n",
            "Epoch 2/15\n",
            "563/563 [==============================] - 7s 12ms/step - loss: 0.0017 - accuracy: 0.9995 - val_loss: 0.0072 - val_accuracy: 0.9983\n",
            "Epoch 3/15\n",
            "563/563 [==============================] - 7s 13ms/step - loss: 0.0037 - accuracy: 0.9989 - val_loss: 0.0055 - val_accuracy: 0.9988\n",
            "Epoch 4/15\n",
            "563/563 [==============================] - 8s 14ms/step - loss: 0.0012 - accuracy: 0.9996 - val_loss: 0.0071 - val_accuracy: 0.9990\n",
            "Epoch 5/15\n",
            "563/563 [==============================] - 7s 12ms/step - loss: 4.1988e-04 - accuracy: 0.9999 - val_loss: 1.3090 - val_accuracy: 0.8021\n",
            "Epoch 6/15\n",
            "563/563 [==============================] - 7s 13ms/step - loss: 0.0037 - accuracy: 0.9991 - val_loss: 0.0047 - val_accuracy: 0.9993\n",
            "Epoch 7/15\n",
            "563/563 [==============================] - 7s 12ms/step - loss: 0.0013 - accuracy: 0.9996 - val_loss: 0.0047 - val_accuracy: 0.9990\n",
            "Epoch 8/15\n",
            "563/563 [==============================] - 7s 13ms/step - loss: 0.0025 - accuracy: 0.9994 - val_loss: 0.0053 - val_accuracy: 0.9978\n",
            "Epoch 9/15\n",
            "563/563 [==============================] - 6s 11ms/step - loss: 8.7112e-04 - accuracy: 0.9998 - val_loss: 0.0088 - val_accuracy: 0.9988\n",
            "Epoch 10/15\n",
            "563/563 [==============================] - 7s 13ms/step - loss: 0.0040 - accuracy: 0.9989 - val_loss: 0.0069 - val_accuracy: 0.9988\n",
            "Epoch 11/15\n",
            "563/563 [==============================] - 6s 11ms/step - loss: 9.7384e-04 - accuracy: 0.9996 - val_loss: 0.0038 - val_accuracy: 0.9993\n",
            "Epoch 12/15\n",
            "563/563 [==============================] - 7s 13ms/step - loss: 0.0010 - accuracy: 0.9996 - val_loss: 0.0016 - val_accuracy: 0.9995\n",
            "Epoch 13/15\n",
            "563/563 [==============================] - 7s 13ms/step - loss: 2.3787e-04 - accuracy: 0.9999 - val_loss: 8.9360e-04 - val_accuracy: 0.9995\n",
            "Epoch 14/15\n",
            "563/563 [==============================] - 7s 13ms/step - loss: 8.4937e-04 - accuracy: 0.9997 - val_loss: 0.0056 - val_accuracy: 0.9990\n",
            "Epoch 15/15\n",
            "563/563 [==============================] - 7s 12ms/step - loss: 0.0018 - accuracy: 0.9995 - val_loss: 0.0043 - val_accuracy: 0.9990\n"
          ]
        }
      ]
    },
    {
      "cell_type": "code",
      "source": [
        "print(\"Test_Accuracy: {:.2f}%\".format(model.evaluate(np.array(X_test), np.array(y_test))[1]*100))\n"
      ],
      "metadata": {
        "colab": {
          "base_uri": "https://localhost:8080/"
        },
        "id": "H2ICEIcqDGXp",
        "outputId": "887f963c-e031-4cad-8d92-b3097fe1a72b"
      },
      "execution_count": 22,
      "outputs": [
        {
          "output_type": "stream",
          "name": "stdout",
          "text": [
            "313/313 [==============================] - 1s 4ms/step - loss: 0.0067 - accuracy: 0.9987\n",
            "Test_Accuracy: 99.87%\n"
          ]
        }
      ]
    },
    {
      "cell_type": "code",
      "source": [
        "\n",
        "f, (ax1, ax2) = plt.subplots(1, 2, figsize=(12, 4))\n",
        "t = f.suptitle('CNN Performance', fontsize=12)\n",
        "f.subplots_adjust(top=0.85, wspace=0.3)\n",
        "\n",
        "max_epoch = len(history.history['accuracy'])+1\n",
        "epoch_list = list(range(1,max_epoch))\n",
        "ax1.plot(epoch_list, history.history['accuracy'], label='Train Accuracy')\n",
        "ax1.plot(epoch_list, history.history['val_accuracy'], label='Validation Accuracy')\n",
        "ax1.set_xticks(np.arange(1, max_epoch, 5))\n",
        "ax1.set_ylabel('Accuracy Value')\n",
        "ax1.set_xlabel('Epoch')\n",
        "ax1.set_title('Accuracy')\n",
        "l1 = ax1.legend(loc=\"best\")\n",
        "\n",
        "ax2.plot(epoch_list, history.history['loss'], label='Train Loss')\n",
        "ax2.plot(epoch_list, history.history['val_loss'], label='Validation Loss')\n",
        "ax2.set_xticks(np.arange(1, max_epoch, 5))\n",
        "ax2.set_ylabel('Loss Value')\n",
        "ax2.set_xlabel('Epoch')\n",
        "ax2.set_title('Loss')\n",
        "l2 = ax2.legend(loc=\"best\")\n"
      ],
      "metadata": {
        "colab": {
          "base_uri": "https://localhost:8080/",
          "height": 308
        },
        "id": "8JCZPxFVDGbD",
        "outputId": "85f1e2ad-d48d-4f12-91c5-9ce3ef16aa34"
      },
      "execution_count": 23,
      "outputs": [
        {
          "output_type": "display_data",
          "data": {
            "text/plain": [
              "<Figure size 864x288 with 2 Axes>"
            ],
            "image/png": "[encoded data removed]"
          },
          "metadata": {
            "needs_background": "light"
          }
        }
      ]
    },
    {
      "cell_type": "code",
      "source": [
        "\n",
        "#Save the model\n",
        "model.save('CT_cnn.h5')"
      ],
      "metadata": {
        "id": "YjI2CbqBEPqO"
      },
      "execution_count": 24,
      "outputs": []
    }
  ]
}