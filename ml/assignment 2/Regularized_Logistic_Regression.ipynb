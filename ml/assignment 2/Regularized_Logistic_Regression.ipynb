{
  "nbformat": 4,
  "nbformat_minor": 0,
  "metadata": {
    "colab": {
      "provenance": []
    },
    "kernelspec": {
      "name": "python3",
      "display_name": "Python 3"
    },
    "language_info": {
      "name": "python"
    }
  },
  "cells": [
    {
      "cell_type": "markdown",
      "source": [
        "importing necessary library"
      ],
      "metadata": {
        "id": "m3CNlxRg8Fa_"
      }
    },
    {
      "cell_type": "code",
      "execution_count": 17,
      "metadata": {
        "id": "m3o7BL59ld1h"
      },
      "outputs": [],
      "source": [
        "import pandas as pd\n",
        "import matplotlib.pyplot as plt\n",
        "import csv\n",
        "import numpy as np\n",
        "import seaborn as sns"
      ]
    },
    {
      "cell_type": "code",
      "source": [
        "url = 'https://raw.githubusercontent.com/mdhasanali3/assignments/main/ml/assignment%202/data2.txt'\n",
        "data = pd.read_csv(url, header=None, names = [\"x1\",\"x2\",\"y\"])\n",
        "data.head()"
      ],
      "metadata": {
        "colab": {
          "base_uri": "https://localhost:8080/",
          "height": 206
        },
        "id": "-pq05jRTmEi7",
        "outputId": "30719333-a1c6-42d6-9dc0-865c6c85a250"
      },
      "execution_count": 18,
      "outputs": [
        {
          "output_type": "execute_result",
          "data": {
            "text/plain": [
              "         x1       x2  y\n",
              "0  0.051267  0.69956  1\n",
              "1 -0.092742  0.68494  1\n",
              "2 -0.213710  0.69225  1\n",
              "3 -0.375000  0.50219  1\n",
              "4 -0.513250  0.46564  1"
            ],
            "text/html": [
              "\n",
              "  <div id=\"df-07269670-2dfc-4151-a0ff-aacd3f89d998\">\n",
              "    <div class=\"colab-df-container\">\n",
              "      <div>\n",
              "<style scoped>\n",
              "    .dataframe tbody tr th:only-of-type {\n",
              "        vertical-align: middle;\n",
              "    }\n",
              "\n",
              "    .dataframe tbody tr th {\n",
              "        vertical-align: top;\n",
              "    }\n",
              "\n",
              "    .dataframe thead th {\n",
              "        text-align: right;\n",
              "    }\n",
              "</style>\n",
              "<table border=\"1\" class=\"dataframe\">\n",
              "  <thead>\n",
              "    <tr style=\"text-align: right;\">\n",
              "      <th></th>\n",
              "      <th>x1</th>\n",
              "      <th>x2</th>\n",
              "      <th>y</th>\n",
              "    </tr>\n",
              "  </thead>\n",
              "  <tbody>\n",
              "    <tr>\n",
              "      <th>0</th>\n",
              "      <td>0.051267</td>\n",
              "      <td>0.69956</td>\n",
              "      <td>1</td>\n",
              "    </tr>\n",
              "    <tr>\n",
              "      <th>1</th>\n",
              "      <td>-0.092742</td>\n",
              "      <td>0.68494</td>\n",
              "      <td>1</td>\n",
              "    </tr>\n",
              "    <tr>\n",
              "      <th>2</th>\n",
              "      <td>-0.213710</td>\n",
              "      <td>0.69225</td>\n",
              "      <td>1</td>\n",
              "    </tr>\n",
              "    <tr>\n",
              "      <th>3</th>\n",
              "      <td>-0.375000</td>\n",
              "      <td>0.50219</td>\n",
              "      <td>1</td>\n",
              "    </tr>\n",
              "    <tr>\n",
              "      <th>4</th>\n",
              "      <td>-0.513250</td>\n",
              "      <td>0.46564</td>\n",
              "      <td>1</td>\n",
              "    </tr>\n",
              "  </tbody>\n",
              "</table>\n",
              "</div>\n",
              "      <button class=\"colab-df-convert\" onclick=\"convertToInteractive('df-07269670-2dfc-4151-a0ff-aacd3f89d998')\"\n",
              "              title=\"Convert this dataframe to an interactive table.\"\n",
              "              style=\"display:none;\">\n",
              "        \n",
              "  <svg xmlns=\"http://www.w3.org/2000/svg\" height=\"24px\"viewBox=\"0 0 24 24\"\n",
              "       width=\"24px\">\n",
              "    <path d=\"M0 0h24v24H0V0z\" fill=\"none\"/>\n",
              "    <path d=\"M18.56 5.44l.94 2.06.94-2.06 2.06-.94-2.06-.94-.94-2.06-.94 2.06-2.06.94zm-11 1L8.5 8.5l.94-2.06 2.06-.94-2.06-.94L8.5 2.5l-.94 2.06-2.06.94zm10 10l.94 2.06.94-2.06 2.06-.94-2.06-.94-.94-2.06-.94 2.06-2.06.94z\"/><path d=\"M17.41 7.96l-1.37-1.37c-.4-.4-.92-.59-1.43-.59-.52 0-1.04.2-1.43.59L10.3 9.45l-7.72 7.72c-.78.78-.78 2.05 0 2.83L4 21.41c.39.39.9.59 1.41.59.51 0 1.02-.2 1.41-.59l7.78-7.78 2.81-2.81c.8-.78.8-2.07 0-2.86zM5.41 20L4 18.59l7.72-7.72 1.47 1.35L5.41 20z\"/>\n",
              "  </svg>\n",
              "      </button>\n",
              "      \n",
              "  <style>\n",
              "    .colab-df-container {\n",
              "      display:flex;\n",
              "      flex-wrap:wrap;\n",
              "      gap: 12px;\n",
              "    }\n",
              "\n",
              "    .colab-df-convert {\n",
              "      background-color: #E8F0FE;\n",
              "      border: none;\n",
              "      border-radius: 50%;\n",
              "      cursor: pointer;\n",
              "      display: none;\n",
              "      fill: #1967D2;\n",
              "      height: 32px;\n",
              "      padding: 0 0 0 0;\n",
              "      width: 32px;\n",
              "    }\n",
              "\n",
              "    .colab-df-convert:hover {\n",
              "      background-color: #E2EBFA;\n",
              "      box-shadow: 0px 1px 2px rgba(60, 64, 67, 0.3), 0px 1px 3px 1px rgba(60, 64, 67, 0.15);\n",
              "      fill: #174EA6;\n",
              "    }\n",
              "\n",
              "    [theme=dark] .colab-df-convert {\n",
              "      background-color: #3B4455;\n",
              "      fill: #D2E3FC;\n",
              "    }\n",
              "\n",
              "    [theme=dark] .colab-df-convert:hover {\n",
              "      background-color: #434B5C;\n",
              "      box-shadow: 0px 1px 3px 1px rgba(0, 0, 0, 0.15);\n",
              "      filter: drop-shadow(0px 1px 2px rgba(0, 0, 0, 0.3));\n",
              "      fill: #FFFFFF;\n",
              "    }\n",
              "  </style>\n",
              "\n",
              "      <script>\n",
              "        const buttonEl =\n",
              "          document.querySelector('#df-07269670-2dfc-4151-a0ff-aacd3f89d998 button.colab-df-convert');\n",
              "        buttonEl.style.display =\n",
              "          google.colab.kernel.accessAllowed ? 'block' : 'none';\n",
              "\n",
              "        async function convertToInteractive(key) {\n",
              "          const element = document.querySelector('#df-07269670-2dfc-4151-a0ff-aacd3f89d998');\n",
              "          const dataTable =\n",
              "            await google.colab.kernel.invokeFunction('convertToInteractive',\n",
              "                                                     [key], {});\n",
              "          if (!dataTable) return;\n",
              "\n",
              "          const docLinkHtml = 'Like what you see? Visit the ' +\n",
              "            '<a target=\"_blank\" href=https://colab.research.google.com/notebooks/data_table.ipynb>data table notebook</a>'\n",
              "            + ' to learn more about interactive tables.';\n",
              "          element.innerHTML = '';\n",
              "          dataTable['output_type'] = 'display_data';\n",
              "          await google.colab.output.renderOutput(dataTable, element);\n",
              "          const docLink = document.createElement('div');\n",
              "          docLink.innerHTML = docLinkHtml;\n",
              "          element.appendChild(docLink);\n",
              "        }\n",
              "      </script>\n",
              "    </div>\n",
              "  </div>\n",
              "  "
            ]
          },
          "metadata": {},
          "execution_count": 18
        }
      ]
    },
    {
      "cell_type": "markdown",
      "source": [
        "visualizing dataset  with scatterplot"
      ],
      "metadata": {
        "id": "h8t37eIQ71RF"
      }
    },
    {
      "cell_type": "code",
      "source": [
        "def plotData(data, label_x, label_y, label_pos, label_neg, axes=None):\n",
        "  \n",
        "    neg = data['y'] == 0\n",
        "    pos = data['y'] == 1\n",
        "    \n",
        "    if axes == None:\n",
        "        axes = plt.gca()\n",
        "    axes.scatter(data[pos]['x1'], data[pos]['x2'], marker='+', c='magenta', s=60, linewidth=2, label=label_pos)\n",
        "    axes.scatter(data[neg]['x1'], data[neg]['x2'], c='blue', s=60, label=label_neg)\n",
        "    axes.set_xlabel(label_x)\n",
        "    axes.set_ylabel(label_y)\n",
        "    axes.legend(frameon= True, fancybox = True);"
      ],
      "metadata": {
        "id": "IOa1mghnmako"
      },
      "execution_count": 19,
      "outputs": []
    },
    {
      "cell_type": "code",
      "source": [
        "plotData(data, 'Microchip Test 1', 'Microchip Test 2', 'y = 1', 'y = 0')"
      ],
      "metadata": {
        "colab": {
          "base_uri": "https://localhost:8080/",
          "height": 279
        },
        "id": "FJNkudnlmkeP",
        "outputId": "8e2ed89c-8ce3-4611-f000-040d9ad22070"
      },
      "execution_count": 20,
      "outputs": [
        {
          "output_type": "display_data",
          "data": {
            "text/plain": [
              "<Figure size 432x288 with 1 Axes>"
            ],
            "image/png": "[encoded data removed]"
          },
          "metadata": {
            "needs_background": "light"
          }
        }
      ]
    },
    {
      "cell_type": "code",
      "source": [
        "n = data.shape[1]-1\n",
        "x = data[data.columns[0:n]]\n",
        "\n",
        "y = data[data.columns[n:n+1]]\n",
        "# convert to np.array\n",
        "X = x.values\n",
        "y = y.values\n",
        "print(X,5)\n"
      ],
      "metadata": {
        "colab": {
          "base_uri": "https://localhost:8080/"
        },
        "id": "smAm6vgQmrNU",
        "outputId": "aafe157d-56c8-4d8c-d81d-7d0758a6c970"
      },
      "execution_count": 21,
      "outputs": [
        {
          "output_type": "stream",
          "name": "stdout",
          "text": [
            "[[ 0.051267   0.69956  ]\n",
            " [-0.092742   0.68494  ]\n",
            " [-0.21371    0.69225  ]\n",
            " [-0.375      0.50219  ]\n",
            " [-0.51325    0.46564  ]\n",
            " [-0.52477    0.2098   ]\n",
            " [-0.39804    0.034357 ]\n",
            " [-0.30588   -0.19225  ]\n",
            " [ 0.016705  -0.40424  ]\n",
            " [ 0.13191   -0.51389  ]\n",
            " [ 0.38537   -0.56506  ]\n",
            " [ 0.52938   -0.5212   ]\n",
            " [ 0.63882   -0.24342  ]\n",
            " [ 0.73675   -0.18494  ]\n",
            " [ 0.54666    0.48757  ]\n",
            " [ 0.322      0.5826   ]\n",
            " [ 0.16647    0.53874  ]\n",
            " [-0.046659   0.81652  ]\n",
            " [-0.17339    0.69956  ]\n",
            " [-0.47869    0.63377  ]\n",
            " [-0.60541    0.59722  ]\n",
            " [-0.62846    0.33406  ]\n",
            " [-0.59389    0.005117 ]\n",
            " [-0.42108   -0.27266  ]\n",
            " [-0.11578   -0.39693  ]\n",
            " [ 0.20104   -0.60161  ]\n",
            " [ 0.46601   -0.53582  ]\n",
            " [ 0.67339   -0.53582  ]\n",
            " [-0.13882    0.54605  ]\n",
            " [-0.29435    0.77997  ]\n",
            " [-0.26555    0.96272  ]\n",
            " [-0.16187    0.8019   ]\n",
            " [-0.17339    0.64839  ]\n",
            " [-0.28283    0.47295  ]\n",
            " [-0.36348    0.31213  ]\n",
            " [-0.30012    0.027047 ]\n",
            " [-0.23675   -0.21418  ]\n",
            " [-0.06394   -0.18494  ]\n",
            " [ 0.062788  -0.16301  ]\n",
            " [ 0.22984   -0.41155  ]\n",
            " [ 0.2932    -0.2288   ]\n",
            " [ 0.48329   -0.18494  ]\n",
            " [ 0.64459   -0.14108  ]\n",
            " [ 0.46025    0.012427 ]\n",
            " [ 0.6273     0.15863  ]\n",
            " [ 0.57546    0.26827  ]\n",
            " [ 0.72523    0.44371  ]\n",
            " [ 0.22408    0.52412  ]\n",
            " [ 0.44297    0.67032  ]\n",
            " [ 0.322      0.69225  ]\n",
            " [ 0.13767    0.57529  ]\n",
            " [-0.0063364  0.39985  ]\n",
            " [-0.092742   0.55336  ]\n",
            " [-0.20795    0.35599  ]\n",
            " [-0.20795    0.17325  ]\n",
            " [-0.43836    0.21711  ]\n",
            " [-0.21947   -0.016813 ]\n",
            " [-0.13882   -0.27266  ]\n",
            " [ 0.18376    0.93348  ]\n",
            " [ 0.22408    0.77997  ]\n",
            " [ 0.29896    0.61915  ]\n",
            " [ 0.50634    0.75804  ]\n",
            " [ 0.61578    0.7288   ]\n",
            " [ 0.60426    0.59722  ]\n",
            " [ 0.76555    0.50219  ]\n",
            " [ 0.92684    0.3633   ]\n",
            " [ 0.82316    0.27558  ]\n",
            " [ 0.96141    0.085526 ]\n",
            " [ 0.93836    0.012427 ]\n",
            " [ 0.86348   -0.082602 ]\n",
            " [ 0.89804   -0.20687  ]\n",
            " [ 0.85196   -0.36769  ]\n",
            " [ 0.82892   -0.5212   ]\n",
            " [ 0.79435   -0.55775  ]\n",
            " [ 0.59274   -0.7405   ]\n",
            " [ 0.51786   -0.5943   ]\n",
            " [ 0.46601   -0.41886  ]\n",
            " [ 0.35081   -0.57968  ]\n",
            " [ 0.28744   -0.76974  ]\n",
            " [ 0.085829  -0.75512  ]\n",
            " [ 0.14919   -0.57968  ]\n",
            " [-0.13306   -0.4481   ]\n",
            " [-0.40956   -0.41155  ]\n",
            " [-0.39228   -0.25804  ]\n",
            " [-0.74366   -0.25804  ]\n",
            " [-0.69758    0.041667 ]\n",
            " [-0.75518    0.2902   ]\n",
            " [-0.69758    0.68494  ]\n",
            " [-0.4038     0.70687  ]\n",
            " [-0.38076    0.91886  ]\n",
            " [-0.50749    0.90424  ]\n",
            " [-0.54781    0.70687  ]\n",
            " [ 0.10311    0.77997  ]\n",
            " [ 0.057028   0.91886  ]\n",
            " [-0.10426    0.99196  ]\n",
            " [-0.081221   1.1089   ]\n",
            " [ 0.28744    1.087    ]\n",
            " [ 0.39689    0.82383  ]\n",
            " [ 0.63882    0.88962  ]\n",
            " [ 0.82316    0.66301  ]\n",
            " [ 0.67339    0.64108  ]\n",
            " [ 1.0709     0.10015  ]\n",
            " [-0.046659  -0.57968  ]\n",
            " [-0.23675   -0.63816  ]\n",
            " [-0.15035   -0.36769  ]\n",
            " [-0.49021   -0.3019   ]\n",
            " [-0.46717   -0.13377  ]\n",
            " [-0.28859   -0.060673 ]\n",
            " [-0.61118   -0.067982 ]\n",
            " [-0.66302   -0.21418  ]\n",
            " [-0.59965   -0.41886  ]\n",
            " [-0.72638   -0.082602 ]\n",
            " [-0.83007    0.31213  ]\n",
            " [-0.72062    0.53874  ]\n",
            " [-0.59389    0.49488  ]\n",
            " [-0.48445    0.99927  ]\n",
            " [-0.0063364  0.99927  ]\n",
            " [ 0.63265   -0.030612 ]] 5\n"
          ]
        }
      ]
    },
    {
      "cell_type": "code",
      "source": [
        "def mapFeature( x1col, x2col):\n",
        "    degrees = 10\n",
        "    out = np.ones( (x1col.shape[0], 1) )\n",
        "\n",
        "    for i in range(1, degrees+1):\n",
        "      for j in range(0, i+1):\n",
        "        term1 = x1col ** (i-j)\n",
        "        term2 = x2col ** (j)\n",
        "        term  = (term1 * term2).reshape( term1.shape[0], 1 ) \n",
        "        out   = np.hstack(( out, term ))\n",
        "        \n",
        "    return out"
      ],
      "metadata": {
        "id": "vCZFhTbgmxKv"
      },
      "execution_count": 22,
      "outputs": []
    },
    {
      "cell_type": "code",
      "source": [
        "XX = mapFeature(X[:,0],X[:,1])\n",
        "print(X.shape, XX.shape)\n",
        "XX"
      ],
      "metadata": {
        "colab": {
          "base_uri": "https://localhost:8080/"
        },
        "id": "3h_Rxp9Rm5BT",
        "outputId": "f40a8d12-c5eb-4df8-9995-cab97b4c85ff"
      },
      "execution_count": 23,
      "outputs": [
        {
          "output_type": "stream",
          "name": "stdout",
          "text": [
            "(118, 2) (118, 66)\n"
          ]
        },
        {
          "output_type": "execute_result",
          "data": {
            "text/plain": [
              "array([[ 1.00000000e+00,  5.12670000e-02,  6.99560000e-01, ...,\n",
              "         1.50756332e-04,  2.05713421e-03,  2.80704704e-02],\n",
              "       [ 1.00000000e+00, -9.27420000e-02,  6.84940000e-01, ...,\n",
              "         4.16651692e-04, -3.07715393e-03,  2.27261199e-02],\n",
              "       [ 1.00000000e+00, -2.13710000e-01,  6.92250000e-01, ...,\n",
              "         2.40853745e-03, -7.80174092e-03,  2.52714199e-02],\n",
              "       ...,\n",
              "       [ 1.00000000e+00, -4.84450000e-01,  9.99270000e-01, ...,\n",
              "         2.33324699e-01, -4.81276442e-01,  9.92723934e-01],\n",
              "       [ 1.00000000e+00, -6.33640000e-03,  9.99270000e-01, ...,\n",
              "         3.99160874e-05, -6.29489121e-03,  9.92723934e-01],\n",
              "       [ 1.00000000e+00,  6.32650000e-01, -3.06120000e-02, ...,\n",
              "         3.08646006e-13, -1.49344370e-14,  7.22631762e-16]])"
            ]
          },
          "metadata": {},
          "execution_count": 23
        }
      ]
    },
    {
      "cell_type": "code",
      "source": [
        "from scipy.special import expit #Vectorized sigmoid function\n",
        "\n",
        "#Hypothesis function and cost function for logistic regression\n",
        "def h(mytheta,myX): #Logistic hypothesis function\n",
        "    return expit(np.dot(myX,mytheta))"
      ],
      "metadata": {
        "id": "xqRyRHuQnGxq"
      },
      "execution_count": 24,
      "outputs": []
    },
    {
      "cell_type": "code",
      "source": [
        "#Cost function, default lambda (regularization) 0\n",
        "def computeCost(mytheta,myX,myy,mylambda = 0.): \n",
        "    m = myy.size \n",
        "    term1 = np.dot(-np.array(myy).T,np.log(h(mytheta,myX)))\n",
        "    term2 = np.dot((1-np.array(myy)).T,np.log(1-h(mytheta,myX)))\n",
        "    regterm = (mylambda/2) * np.sum(np.dot(mytheta[1:].T,mytheta[1:])) #Skip theta0\n",
        "    return float( (1./m) * ( np.sum(term1 - term2) + regterm ) )\n"
      ],
      "metadata": {
        "id": "3B_qZ4p0nJdN"
      },
      "execution_count": 25,
      "outputs": []
    },
    {
      "cell_type": "code",
      "source": [
        "def sigmoid(z):\n",
        "    z = np.clip( z, -500, 500 )        \n",
        "    g = 1.0/(1.0+np.exp(-z))\n",
        "    return g"
      ],
      "metadata": {
        "id": "J13soAd8nNbV"
      },
      "execution_count": 26,
      "outputs": []
    },
    {
      "cell_type": "code",
      "source": [
        "def compute_gradient_logistic(X, y, w):\n",
        "  m,n = X.shape\n",
        "  dj_dw = np.zeros((n,))\n",
        "\n",
        "  for i in range(m):\n",
        "    f_wb_i = sigmoid(np.dot(X[i], w))             #(n,)(n,)=scalar\n",
        "    err_i  = f_wb_i  - y[i]                       #scalar\n",
        "    for j in range(n):\n",
        "      dj_dw[j] = dj_dw[j] + err_i * X[i,j]        #scalar\n",
        "  dj_dw = dj_dw/m                                   #(n,)\n",
        "      \n",
        "  return dj_dw"
      ],
      "metadata": {
        "id": "shIm_D0DnR84"
      },
      "execution_count": 27,
      "outputs": []
    },
    {
      "cell_type": "code",
      "source": [
        "import copy\n",
        "import math\n",
        "initial_theta = np.zeros(XX.shape[1])\n",
        "print(initial_theta.shape)\n",
        "\n",
        "# def optimizeRegularizedTheta(mytheta,myX,myy,mylambda=0.):\n",
        "#     result = optimize.minimize(computeCost, mytheta, args=(myX, myy, mylambda),  method='BFGS', options={\"maxiter\":500, \"disp\":False} )\n",
        "#     return np.array([result.x]), result.fun\n",
        "\n",
        "def optimizeRegularizedTheta(mytheta, myX, myy, alpha, num_iters, mylambda=0.):\n",
        "  m = myX.shape[0]\n",
        "  J_history = []\n",
        "  w = copy.deepcopy(mytheta)\n",
        "\n",
        "  for i in range(num_iters):\n",
        "    # Calculate the gradient and update the parameters\n",
        "    dj_dw = compute_gradient_logistic(myX, myy, w)   \n",
        "\n",
        "    # Update Parameters using w, b, alpha and gradient\n",
        "    w = w*(1-alpha*(mylambda/m)) - alpha * dj_dw              \n",
        "  \n",
        "    # Save cost J at each iteration\n",
        "    if i<100000:      # prevent resource exhaustion \n",
        "        J_history.append( computeCost(w, myX, myy, mylambda) )\n",
        "\n",
        "    # Print cost every at intervals 10 times or as many iterations if < 10\n",
        "    if i% math.ceil(num_iters / 10) == 0:\n",
        "        print(f\"Iteration {i:4d}: Cost {J_history[-1]}   \")\n",
        "  return w, min(J_history)\n",
        "    \n",
        "theta, mincost = optimizeRegularizedTheta(initial_theta,XX,y, 0.3, 200)\n",
        "print(theta.shape)\n",
        "print(mincost)"
      ],
      "metadata": {
        "colab": {
          "base_uri": "https://localhost:8080/"
        },
        "id": "vNKKo72TnVWb",
        "outputId": "253b04f5-a3fc-4be4-8e11-f32da493652f"
      },
      "execution_count": 28,
      "outputs": [
        {
          "output_type": "stream",
          "name": "stdout",
          "text": [
            "(66,)\n",
            "Iteration    0: Cost 0.6871405674573714   \n",
            "Iteration   20: Cost 0.6290096169422484   \n",
            "Iteration   40: Cost 0.5982388057071513   \n",
            "Iteration   60: Cost 0.5753565450466624   \n",
            "Iteration   80: Cost 0.5567735381552777   \n",
            "Iteration  100: Cost 0.5410591277608442   \n",
            "Iteration  120: Cost 0.5274726385652316   \n",
            "Iteration  140: Cost 0.5155555713281706   \n",
            "Iteration  160: Cost 0.5049908792927309   \n",
            "Iteration  180: Cost 0.4955446152753888   \n",
            "(66,)\n",
            "0.4874426504697406\n"
          ]
        }
      ]
    },
    {
      "cell_type": "code",
      "source": [
        "def plotBoundary(mytheta, myX, myy, mylambda=0.):\n",
        "    \"\"\"\n",
        "    Function to plot the decision boundary for arbitrary theta, X, y, lambda value\n",
        "    Inside of this function is feature mapping, and the minimization routine.\n",
        "    It works by making a grid of x1 (\"xvals\") and x2 (\"yvals\") points,\n",
        "    And for each, computing whether the hypothesis classifies that point as\n",
        "    True or False. Then, a contour is drawn with a built-in pyplot function.\n",
        "    \"\"\"\n",
        "    alpha = .1\n",
        "    iters = 2000\n",
        "\n",
        "    theta, mincost = optimizeRegularizedTheta(mytheta, myX, myy, alpha, iters, mylambda)\n",
        "    print(theta, '\\n\\nCost : ', mincost, '\\n \\n ')\n",
        "    xvals = np.linspace(-1,1.5,50)\n",
        "    yvals = np.linspace(-1,1.5,50)\n",
        "    zvals = np.zeros((len(xvals),len(yvals)))\n",
        "    for i in range(len(xvals)):\n",
        "        for j in range(len(yvals)):\n",
        "            myfeaturesij = mapFeature(np.array([xvals[i]]),np.array([yvals[j]]))\n",
        "            zvals[i][j] = np.dot(theta,myfeaturesij.T)\n",
        "            # print(type(zvals), zvals.shape)\n",
        "    zvals = zvals.transpose()\n",
        "\n",
        "    u, v = np.meshgrid( xvals, yvals )\n",
        "    mycontour = plt.contour( xvals, yvals, zvals, [0])\n",
        "    #Kind of a hacky way to display a text on top of the decision boundary\n",
        "    myfmt = { 0:'Lambda = %d'%mylambda}\n",
        "    plt.clabel(mycontour, inline=1, fontsize=15, fmt=myfmt)\n",
        "    plt.title(\"Decision Boundary\")"
      ],
      "metadata": {
        "id": "JVNVPJhInbhs"
      },
      "execution_count": 29,
      "outputs": []
    },
    {
      "cell_type": "code",
      "source": [
        "plt.figure(figsize=(12,10))\n",
        "plt.subplot(221)\n",
        "plotData(data, 'Microchip Test 1', 'Microchip Test 2', 'y = 1', 'y = 0')\n",
        "plotBoundary(initial_theta, XX, y, 0.)\n",
        "\n",
        "plt.subplot(222)\n",
        "plotData(data, 'Microchip Test 1', 'Microchip Test 2', 'y = 1', 'y = 0')\n",
        "plotBoundary(initial_theta,XX,y,1.)\n",
        "\n",
        "plt.subplot(223)\n",
        "plotData(data, 'Microchip Test 1', 'Microchip Test 2', 'y = 1', 'y = 0')\n",
        "plotBoundary(initial_theta,XX,y,10.)\n",
        "\n",
        "plt.subplot(224)\n",
        "plotData(data, 'Microchip Test 1', 'Microchip Test 2', 'y = 1', 'y = 0')\n",
        "plotBoundary(initial_theta,XX,y,50.)"
      ],
      "metadata": {
        "colab": {
          "base_uri": "https://localhost:8080/",
          "height": 1000
        },
        "id": "9gjc7IV6nhRY",
        "outputId": "b3cb5c8f-1c93-4f9a-f6f3-9b14bfea75d9"
      },
      "execution_count": 30,
      "outputs": [
        {
          "output_type": "stream",
          "name": "stdout",
          "text": [
            "Iteration    0: Cost 0.691100342525338   \n",
            "Iteration  200: Cost 0.5695610710258278   \n",
            "Iteration  400: Cost 0.5198661671992133   \n",
            "Iteration  600: Cost 0.4873998933845835   \n",
            "Iteration  800: Cost 0.4641208383686552   \n",
            "Iteration 1000: Cost 0.4464778994426601   \n",
            "Iteration 1200: Cost 0.4325811464975307   \n",
            "Iteration 1400: Cost 0.421321011911372   \n",
            "Iteration 1600: Cost 0.41199763185086646   \n",
            "Iteration 1800: Cost 0.4041443548629274   \n",
            "[ 1.80895028  1.19327051  1.93047321 -2.92202465 -1.66933109 -2.06360319\n",
            "  0.51394875 -0.70855342 -0.68091121  0.01509431 -2.12281454 -0.12732639\n",
            " -1.05230795 -0.55090912 -1.61389196 -0.12886562 -0.38907477 -0.07844303\n",
            " -0.48856449 -0.58464505 -0.33588042 -1.49342345  0.02728522 -0.4956889\n",
            "  0.00577684 -0.5553396  -0.3230264  -1.10265214 -0.37345863 -0.18666343\n",
            " -0.06592202 -0.2069313  -0.0652581  -0.29152601 -0.41465006 -0.37671752\n",
            " -1.08405078  0.04698325 -0.25974583  0.0157464  -0.22236584  0.01039536\n",
            " -0.31738897 -0.23082524 -0.76514157 -0.43891173 -0.09183981 -0.05904071\n",
            " -0.08414562 -0.03321239 -0.11475959 -0.03186124 -0.18045579 -0.29615341\n",
            " -0.35598186 -0.81431507  0.03892217 -0.15080621  0.01165868 -0.09841729\n",
            "  0.00601625 -0.11753888  0.01116767 -0.19348519 -0.18190343 -0.56165904] \n",
            "\n",
            "Cost :  0.39746724431875147 \n",
            " \n",
            " \n",
            "Iteration    0: Cost 0.6911012162510451   \n",
            "Iteration  200: Cost 0.5832493073638024   \n",
            "Iteration  400: Cost 0.5526592857061994   \n",
            "Iteration  600: Cost 0.5384044326281325   \n",
            "Iteration  800: Cost 0.5310847587479901   \n",
            "Iteration 1000: Cost 0.5270987808622271   \n",
            "Iteration 1200: Cost 0.5248311869933193   \n",
            "Iteration 1400: Cost 0.5234940642171692   \n",
            "Iteration 1600: Cost 0.5226804234342283   \n",
            "Iteration 1800: Cost 0.5221708888987672   \n",
            "[ 1.06974247  0.59040187  1.11126989 -1.71083029 -0.83322243 -1.09612856\n",
            "  0.21228029 -0.3567435  -0.35999066 -0.01820254 -1.2436154  -0.05987059\n",
            " -0.57902462 -0.25886688 -0.92068791 -0.11727828 -0.20005078 -0.05830999\n",
            " -0.25646886 -0.28882982 -0.25387695 -0.86902049  0.01868049 -0.27793951\n",
            "  0.00438196 -0.30330498 -0.14105166 -0.6750577  -0.2339825  -0.09659842\n",
            " -0.04580545 -0.10870759 -0.0382065  -0.15868668 -0.19352143 -0.29233965\n",
            " -0.62448575  0.02783025 -0.14756848  0.00813967 -0.12190189  0.00714317\n",
            " -0.17608123 -0.09355924 -0.50212442 -0.25752534 -0.04758727 -0.03802339\n",
            " -0.0445268  -0.0207111  -0.06133608 -0.01647702 -0.10225137 -0.12979408\n",
            " -0.28308076 -0.46308377  0.02284313 -0.08630772  0.00593845 -0.05458859\n",
            "  0.003007   -0.06428569  0.00802224 -0.11027627 -0.06868019 -0.39096223] \n",
            "\n",
            "Cost :  0.5218444555088187 \n",
            " \n",
            " \n",
            "Iteration    0: Cost 0.6911090797824095   \n",
            "Iteration  200: Cost 0.6397444554291647   \n",
            "Iteration  400: Cost 0.6388491580028762   \n",
            "Iteration  600: Cost 0.6387792168100312   \n",
            "Iteration  800: Cost 0.6387699809849322   \n",
            "Iteration 1000: Cost 0.6387685863071244   \n",
            "Iteration 1200: Cost 0.6387683681403051   \n",
            "Iteration 1400: Cost 0.638768333536991   \n",
            "Iteration 1600: Cost 0.6387683280068245   \n",
            "Iteration 1800: Cost 0.6387683271186843   \n",
            "[ 2.28325800e-01  1.03388638e-02  2.05858597e-01 -3.84615780e-01\n",
            " -1.18320886e-01 -1.93650435e-01 -4.36326774e-02 -5.54660751e-02\n",
            " -6.51321342e-02 -4.65234559e-02 -2.95877145e-01 -1.36347997e-02\n",
            " -1.08159455e-01 -3.23299746e-02 -2.11408967e-01 -8.72393971e-02\n",
            " -3.55453402e-02 -2.13409345e-02 -4.54337844e-02 -4.27621721e-02\n",
            " -1.17608707e-01 -2.19026483e-01 -1.94507138e-03 -5.50532043e-02\n",
            " -1.53765969e-03 -5.82548774e-02 -1.45937649e-02 -1.94519785e-01\n",
            " -9.90079581e-02 -2.03821927e-02 -1.54185142e-02 -1.94310508e-02\n",
            " -1.02730548e-02 -3.28947437e-02 -2.46304796e-02 -1.40354192e-01\n",
            " -1.68342628e-01 -4.06100926e-04 -3.07471828e-02 -6.00910525e-04\n",
            " -2.36424286e-02 -1.21648629e-04 -3.73264603e-02 -7.37764170e-03\n",
            " -1.79394669e-01 -9.81083179e-02 -1.28958635e-02 -1.15091454e-02\n",
            " -8.47773674e-03 -6.17391789e-03 -1.20318220e-02 -4.23822916e-03\n",
            " -2.49150448e-02 -1.37918223e-02 -1.49160939e-01 -1.35304296e-01\n",
            " -1.12379553e-03 -1.87661411e-02 -3.43487512e-04 -1.09949240e-02\n",
            " -6.61601582e-04 -1.30441767e-02  7.18765950e-04 -2.66884152e-02\n",
            " -3.77292853e-03 -1.70671064e-01] \n",
            "\n",
            "Cost :  0.6387683269758055 \n",
            " \n",
            " \n",
            "Iteration    0: Cost 0.6911440288106954   \n",
            "Iteration  200: Cost 0.6755355509947569   \n",
            "Iteration  400: Cost 0.6755354735053392   \n",
            "Iteration  600: Cost 0.6755354734962649   \n",
            "Iteration  800: Cost 0.6755354734962635   \n",
            "Iteration 1000: Cost 0.6755354734962635   \n",
            "Iteration 1200: Cost 0.6755354734962635   \n",
            "Iteration 1400: Cost 0.6755354734962635   \n",
            "Iteration 1600: Cost 0.6755354734962635   \n",
            "Iteration 1800: Cost 0.6755354734962635   \n",
            "[ 3.13573825e-02 -2.44184671e-02  2.82952940e-02 -9.86417962e-02\n",
            " -2.59040744e-02 -5.80814710e-02 -2.84957339e-02 -1.34000917e-02\n",
            " -1.66298718e-02 -2.86892520e-02 -7.82563270e-02 -4.17186371e-03\n",
            " -2.57859555e-02 -7.00489926e-03 -6.49091205e-02 -3.45862743e-02\n",
            " -8.54559802e-03 -6.40174525e-03 -1.11511929e-02 -9.71962773e-03\n",
            " -4.63789780e-02 -6.08516377e-02 -1.61228514e-03 -1.30782683e-02\n",
            " -6.73328829e-04 -1.43223012e-02 -3.12150731e-03 -6.37421752e-02\n",
            " -3.56175287e-02 -5.32402175e-03 -4.47331826e-03 -4.51214692e-03\n",
            " -2.73791554e-03 -8.61661053e-03 -5.41357040e-03 -5.35625173e-02\n",
            " -4.95837190e-02 -1.25638046e-03 -7.41479361e-03 -3.59768684e-04\n",
            " -5.62511994e-03 -2.00241301e-04 -9.69291939e-03 -1.61743847e-03\n",
            " -6.30326958e-02 -3.48740777e-02 -3.81008874e-03 -3.25987940e-03\n",
            " -1.96963065e-03 -1.65411057e-03 -2.91925478e-03 -1.11805472e-03\n",
            " -6.96678815e-03 -3.07808623e-03 -5.80808237e-02 -4.25419316e-02\n",
            " -1.43147170e-03 -4.61647975e-03 -2.26371859e-04 -2.61767089e-03\n",
            " -2.55894772e-04 -3.18689167e-03  5.71696310e-05 -7.39564127e-03\n",
            " -9.73964759e-04 -6.41222614e-02] \n",
            "\n",
            "Cost :  0.6755354734962634 \n",
            " \n",
            " \n"
          ]
        },
        {
          "output_type": "display_data",
          "data": {
            "text/plain": [
              "<Figure size 864x720 with 4 Axes>"
            ],
            "image/png": "[encoded data removed]"
          },
          "metadata": {
            "needs_background": "light"
          }
        }
      ]
    }
  ]
}